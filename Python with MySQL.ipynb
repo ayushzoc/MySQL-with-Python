{
 "cells": [
  {
   "cell_type": "markdown",
   "id": "de7c0865",
   "metadata": {},
   "source": [
    "### Creating Databases in MySQL"
   ]
  },
  {
   "cell_type": "code",
   "execution_count": 2,
   "id": "a8947df3",
   "metadata": {},
   "outputs": [
    {
     "name": "stdout",
     "output_type": "stream",
     "text": [
      "<mysql.connector.connection.MySQLConnection object at 0x000001C8E61D8088>\n"
     ]
    }
   ],
   "source": [
    "### Create SQL Connection\n",
    "import mysql.connector as sql\n",
    "\n",
    "connection = sql.connect(\n",
    "    host = \"localhost\",\n",
    "    user = \"root\",\n",
    "    password = \"12345\"\n",
    ")\n",
    "\n",
    "print(connection)"
   ]
  },
  {
   "cell_type": "markdown",
   "id": "a663e41c",
   "metadata": {},
   "source": [
    "### Creating Databases"
   ]
  },
  {
   "cell_type": "code",
   "execution_count": 11,
   "id": "abfd2126",
   "metadata": {},
   "outputs": [],
   "source": [
    "cursor = connection.cursor()\n",
    "\n",
    "cursor.execute(\"CREATE DATABASE student\")"
   ]
  },
  {
   "cell_type": "code",
   "execution_count": 12,
   "id": "6948710a",
   "metadata": {},
   "outputs": [],
   "source": [
    "cursor.execute(\"SHOW DATABASES\")"
   ]
  },
  {
   "cell_type": "code",
   "execution_count": 13,
   "id": "a211bc12",
   "metadata": {},
   "outputs": [
    {
     "name": "stdout",
     "output_type": "stream",
     "text": [
      "('information_schema',)\n",
      "('mysql',)\n",
      "('performance_schema',)\n",
      "('sakila',)\n",
      "('student',)\n",
      "('sys',)\n",
      "('world',)\n"
     ]
    }
   ],
   "source": [
    "for x in cursor:\n",
    "    print(x)"
   ]
  },
  {
   "cell_type": "markdown",
   "id": "8bc1674f",
   "metadata": {},
   "source": [
    "### Dropping some Databases"
   ]
  },
  {
   "cell_type": "code",
   "execution_count": 14,
   "id": "75d0b8e6",
   "metadata": {},
   "outputs": [],
   "source": [
    "cursor.execute(\"DROP DATABASE student\")"
   ]
  },
  {
   "cell_type": "code",
   "execution_count": 16,
   "id": "f4b23118",
   "metadata": {},
   "outputs": [],
   "source": [
    "cursor.execute(\"SHOW DATABASES\")"
   ]
  },
  {
   "cell_type": "code",
   "execution_count": 17,
   "id": "8a97d3a7",
   "metadata": {},
   "outputs": [
    {
     "name": "stdout",
     "output_type": "stream",
     "text": [
      "('information_schema',)\n",
      "('mysql',)\n",
      "('performance_schema',)\n",
      "('sakila',)\n",
      "('sys',)\n",
      "('world',)\n"
     ]
    }
   ],
   "source": [
    "for x in cursor:\n",
    "    print(x)"
   ]
  },
  {
   "cell_type": "code",
   "execution_count": null,
   "id": "6dd1a152",
   "metadata": {},
   "outputs": [],
   "source": []
  }
 ],
 "metadata": {
  "kernelspec": {
   "display_name": "Python 3 (ipykernel)",
   "language": "python",
   "name": "python3"
  },
  "language_info": {
   "codemirror_mode": {
    "name": "ipython",
    "version": 3
   },
   "file_extension": ".py",
   "mimetype": "text/x-python",
   "name": "python",
   "nbconvert_exporter": "python",
   "pygments_lexer": "ipython3",
   "version": "3.7.13"
  }
 },
 "nbformat": 4,
 "nbformat_minor": 5
}
